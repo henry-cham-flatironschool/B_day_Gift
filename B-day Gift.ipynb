{
 "cells": [
  {
   "cell_type": "markdown",
   "metadata": {},
   "source": [
    "## B-day Gift Hackerrank challenge"
   ]
  },
  {
   "cell_type": "code",
   "execution_count": 34,
   "metadata": {},
   "outputs": [
    {
     "data": {
      "text/plain": [
       "array([1, 1, 2])"
      ]
     },
     "execution_count": 34,
     "metadata": {},
     "output_type": "execute_result"
    }
   ],
   "source": [
    "import numpy as np\n",
    "\n",
    "#price on each ball\n",
    "balls = np.array([1,1,2])\n",
    "balls"
   ]
  },
  {
   "cell_type": "code",
   "execution_count": 35,
   "metadata": {},
   "outputs": [
    {
     "data": {
      "text/plain": [
       "3"
      ]
     },
     "execution_count": 35,
     "metadata": {},
     "output_type": "execute_result"
    }
   ],
   "source": [
    "#number of balls\n",
    "n_balls = len(balls)\n",
    "n_balls"
   ]
  },
  {
   "cell_type": "code",
   "execution_count": 36,
   "metadata": {},
   "outputs": [
    {
     "data": {
      "text/plain": [
       "array([[0., 0., 0.],\n",
       "       [1., 0., 0.],\n",
       "       [0., 1., 0.],\n",
       "       [1., 1., 0.],\n",
       "       [0., 0., 1.],\n",
       "       [1., 0., 1.],\n",
       "       [0., 1., 1.],\n",
       "       [1., 1., 1.]])"
      ]
     },
     "execution_count": 36,
     "metadata": {},
     "output_type": "execute_result"
    }
   ],
   "source": [
    "#find the possible coin flips\n",
    "#rows (2**n_balls) represent the different number of possible coin flips\n",
    "#columns (n_balls) represent number of balls\n",
    "flip = np.zeros([2**n_balls,n_balls])\n",
    "\n",
    "#0 represents tails, and 1 represent heads\n",
    "#initial possibility is [0,0,0], which corresponds to [tails,tails,tails]\n",
    "#for loop begins modifying the next possibility \n",
    "for row in range(1,2**n_balls):\n",
    "    #copy the flips from previous possibility\n",
    "    flip[row,:] = flip[row-1,:]\n",
    "    #start from column 0 and progresses to column 2 \n",
    "    for col in range(0,n_balls):\n",
    "        #if column value is 0, change number to 1\n",
    "        #and break loop to advance next row\n",
    "        if flip[row,col] == 0:\n",
    "            flip[row,col] = 1\n",
    "            break\n",
    "        elif flip[row,col]==1:\n",
    "            flip[row,col] = 0\n",
    "    \n",
    "            \n",
    "        \n",
    "flip"
   ]
  },
  {
   "cell_type": "code",
   "execution_count": 37,
   "metadata": {},
   "outputs": [
    {
     "data": {
      "text/plain": [
       "array([[1, 1, 2],\n",
       "       [1, 1, 2],\n",
       "       [1, 1, 2],\n",
       "       [1, 1, 2],\n",
       "       [1, 1, 2],\n",
       "       [1, 1, 2],\n",
       "       [1, 1, 2],\n",
       "       [1, 1, 2]])"
      ]
     },
     "execution_count": 37,
     "metadata": {},
     "output_type": "execute_result"
    }
   ],
   "source": [
    "balls_tile = np.tile(balls,(2**n_balls,1))\n",
    "balls_tile"
   ]
  },
  {
   "cell_type": "code",
   "execution_count": 38,
   "metadata": {},
   "outputs": [
    {
     "data": {
      "text/plain": [
       "array([[0., 0., 0.],\n",
       "       [1., 0., 0.],\n",
       "       [0., 1., 0.],\n",
       "       [1., 1., 0.],\n",
       "       [0., 0., 2.],\n",
       "       [1., 0., 2.],\n",
       "       [0., 1., 2.],\n",
       "       [1., 1., 2.]])"
      ]
     },
     "execution_count": 38,
     "metadata": {},
     "output_type": "execute_result"
    }
   ],
   "source": [
    "#calcuate the price of balls that have a coin flip of heads\n",
    "price = np.multiply(flip,balls_tile)\n",
    "price"
   ]
  },
  {
   "cell_type": "code",
   "execution_count": 39,
   "metadata": {},
   "outputs": [
    {
     "data": {
      "text/plain": [
       "array([0., 1., 1., 2., 2., 3., 3., 4.])"
      ]
     },
     "execution_count": 39,
     "metadata": {},
     "output_type": "execute_result"
    }
   ],
   "source": [
    "#total price of each possibility\n",
    "totalprice = np.sum(price,axis =1)\n",
    "totalprice"
   ]
  },
  {
   "cell_type": "code",
   "execution_count": 40,
   "metadata": {},
   "outputs": [
    {
     "data": {
      "text/plain": [
       "2.0"
      ]
     },
     "execution_count": 40,
     "metadata": {},
     "output_type": "execute_result"
    }
   ],
   "source": [
    "#average price from all possibilities\n",
    "meanprice = np.sum(totalprice)/2**n_balls\n",
    "meanprice"
   ]
  },
  {
   "cell_type": "code",
   "execution_count": 41,
   "metadata": {},
   "outputs": [
    {
     "data": {
      "text/plain": [
       "2.0"
      ]
     },
     "execution_count": 41,
     "metadata": {},
     "output_type": "execute_result"
    }
   ],
   "source": [
    "#simpler method to get the same answer\n",
    "mean_price_simple = sum(balls)/2\n",
    "mean_price_simple"
   ]
  }
 ],
 "metadata": {
  "kernelspec": {
   "display_name": "Python 3",
   "language": "python",
   "name": "python3"
  },
  "language_info": {
   "codemirror_mode": {
    "name": "ipython",
    "version": 3
   },
   "file_extension": ".py",
   "mimetype": "text/x-python",
   "name": "python",
   "nbconvert_exporter": "python",
   "pygments_lexer": "ipython3",
   "version": "3.7.1"
  }
 },
 "nbformat": 4,
 "nbformat_minor": 2
}
